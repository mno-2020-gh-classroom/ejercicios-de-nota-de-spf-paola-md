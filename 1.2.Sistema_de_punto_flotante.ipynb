{
 "cells": [
  {
   "cell_type": "markdown",
   "metadata": {},
   "source": [
    "Nota generada a partir de [liga](https://www.dropbox.com/s/9fsupm3bhwmv7cb/1.2.Sistema_de_punto_flotante.pdf?dl=0)"
   ]
  },
  {
   "cell_type": "markdown",
   "metadata": {},
   "source": [
    "**Notas para contenedor de docker:**"
   ]
  },
  {
   "cell_type": "markdown",
   "metadata": {},
   "source": [
    "Comando de docker para ejecución de la nota de forma local:\n",
    "\n",
    "nota: cambiar `<ruta a mi directorio>` por la ruta de directorio que se desea mapear a `/datos` dentro del contenedor de docker.\n",
    "\n",
    "```\n",
    "docker run --rm -v <ruta a mi directorio>:/datos --name jupyterlab_c_kernel_local -p 8888:8888 -d palmoreck/jupyterlab_c_kernel:1.1.0\n",
    "```\n",
    "\n",
    "password para jupyterlab: `qwerty`\n",
    "\n",
    "Detener el contenedor de docker:\n",
    "\n",
    "```\n",
    "docker stop jupyterlab_c_kernel_local\n",
    "```"
   ]
  },
  {
   "cell_type": "markdown",
   "metadata": {},
   "source": [
    "Documentación de la imagen de docker `palmoreck/jupyterlab_c_kernel:1.1.0` en [liga](https://github.com/palmoreck/dockerfiles/tree/master/jupyterlab/c_kernel)."
   ]
  },
  {
   "cell_type": "markdown",
   "metadata": {},
   "source": [
    "---"
   ]
  },
  {
   "cell_type": "markdown",
   "metadata": {},
   "source": [
    "# 1.2.Sistema de punto flotante"
   ]
  },
  {
   "cell_type": "markdown",
   "metadata": {},
   "source": [
    "## Representación de los números en la computadora"
   ]
  },
  {
   "cell_type": "markdown",
   "metadata": {},
   "source": [
    "Las computadoras utilizan una determinada cantidad de cifras de un número real para realizar operaciones. Además, utilizan una representación de los números en bases no usadas por las personas para realizar cálculos comunes, ejemplos son la **2, 8 o 16**.  En contraste, la mayoría de las personas utilizamos la base **10** para representar a los números y realizar cálculos."
   ]
  },
  {
   "cell_type": "markdown",
   "metadata": {},
   "source": [
    "A continuación se muestran construcciones que se han hecho para representar los números en una computadora."
   ]
  },
  {
   "cell_type": "markdown",
   "metadata": {},
   "source": [
    "### Enteros"
   ]
  },
  {
   "cell_type": "markdown",
   "metadata": {},
   "source": [
    "Tenemos distintos métodos para la representación de los enteros en una computadora, pero uno que es más utilizado es el de \"magnitud con signo\" en el que se utiliza un bit para el signo del número y los bits restantes para almacenar al número. El primer bit se le da el valor de $0$ para  codificar al signo `+` y el valor $1$ codifica al bit `-`. Entonces el número $-173$ se almacena con la cadena de $16$ bits:\n",
    "\n",
    "| | | | | | | | | | | | | | | | |\n",
    "|:---:|:---:|:---:|:---:|:---:|:---:|:---:|:---:|:---:|:---:|:---:|:---:|:---:|:---:|:---:|:---:|\n",
    "|1|0|0|0|0|0|0|0|1|0|1|0|1|1|0|1|\n",
    "\n"
   ]
  },
  {
   "cell_type": "markdown",
   "metadata": {},
   "source": [
    "Utilizamos la notación posicional para convertir este número binario a base 10: el primer bit es $1$ por lo que se tiene un signo negativo. Luego:\n",
    "\n",
    "$$0*2^{14} + 0*2^{13} + \\dots+ 1*2^7+0*2^6+ 1*2^5+0*2^4+1*2^3+1*2^2+0*2^1+1*2^0 = 1*2^7+ 1*2^5+1*2^3+1*2^2+1*2^0 = 173$$"
   ]
  },
  {
   "cell_type": "code",
   "execution_count": 1,
   "metadata": {},
   "outputs": [
    {
     "name": "stdout",
     "output_type": "stream",
     "text": [
      "suma: 173.000000"
     ]
    }
   ],
   "source": [
    "//%cflags:-lm\n",
    "#include<stdio.h>\n",
    "#include<math.h>\n",
    "int main(){\n",
    "    printf(\"suma: %f\",pow(2,7)+pow(2,5)+pow(2,3)+pow(2,2)+pow(2,0));\n",
    "    return 0;\n",
    "}"
   ]
  },
  {
   "cell_type": "markdown",
   "metadata": {},
   "source": [
    "**Ejercicio:**\n",
    "\n",
    "Determina el rango de enteros de base $10$ que puede representarse en una computadora de $16$ bits utilizando el primer bit para el signo\n",
    "\n",
    "Respuesta: Mínimo -(2^15 -1), máximo (2^15 -1)\n",
    "Razonamiento: Con 16 bits, uno se usará como el bit de signo por lo tanto quedan 15 bits disponibles para poner unos.\n",
    "\n",
    "El máximo número positivo son 15 unos después de un cero 0111 1111 1111 1111\n",
    "\n",
    "El mínimo número negativo con 15 unos después de un uno 1111 1111 1111 1111\n",
    "\n",
    "Ese número es equivalente a (2^15 -1) "
   ]
  },
  {
   "cell_type": "code",
   "execution_count": 3,
   "metadata": {},
   "outputs": [
    {
     "name": "stdout",
     "output_type": "stream",
     "text": [
      "Minimo número: -32769.000000\n",
      " Maximo número: 32767.000000"
     ]
    }
   ],
   "source": [
    "//%cflags:-lm\n",
    "#include<stdio.h>\n",
    "#include<math.h>\n",
    "int main(){\n",
    "    printf(\"Minimo número: %f\", (-1) * pow(2,15) -1 );\n",
    "    printf(\"\\n Maximo número: %f\", (1) * pow(2,15) -1 );\n",
    "    return 0;\n",
    "}"
   ]
  },
  {
   "cell_type": "markdown",
   "metadata": {},
   "source": [
    "### Reales"
   ]
  },
  {
   "cell_type": "markdown",
   "metadata": {},
   "source": [
    "Dadas las limitaciones en el almacenamiento de una computadora (hardware), sólo se representa un subconjunto de los números reales en ella, tal conjunto se denota como $\\mathcal{F}\\mathcal{l}$ y contiene números racionales:\n",
    "\n",
    "$$\\mathcal{F}\\mathcal{l} \\subset \\mathbb{Q} \\subset \\mathbb{R}.$$\n"
   ]
  },
  {
   "cell_type": "markdown",
   "metadata": {},
   "source": [
    "**Un poco de historia...**\n",
    "En 1985 la IEEE publicó un estándar de nombre [Binary Floating Point Arithmetic Standard 754-1985](https://standards.ieee.org/standard/754-1985.html) y ha habido más estándares publicados, siendo el más reciente el [IEEE 754-2019](https://standards.ieee.org/standard/754-2019.html). El estándar $754-1985$ proveía estándares para números de punto flotante binarios y decimales, formatos para intercambio de datos, algoritmos para operaciones de redondeo y manejo de excepciones. Los formatos se especificaron para precisiones simple, doble y extendida y tales estándares son seguidos por las manufactureras de computadoras que utilizan el hardware de punto flotante:\n",
    "\n",
    "\"...A family of commercially feasible ways for new systems to perform binary floating-point arithmetic is defined. This standard specifies basic and extended floating-point number formats; add, subtract, multiply, divide, square root, remainder, and compare operations; conversions between integer and floating-point formats; conversions between different floating-point formats; conversions between basic-format floating-point numbers and decimal strings; and floating-point exceptions and their handling, including nonnumbers...\" (estándar $754-1985$)"
   ]
  },
  {
   "cell_type": "markdown",
   "metadata": {},
   "source": [
    "## Sistema de punto flotante (SPF)"
   ]
  },
  {
   "cell_type": "markdown",
   "metadata": {},
   "source": [
    "En un sistema de punto flotante se define:\n",
    "\n",
    "1. Rango de un exponente definido por un límite inferior y uno superior.\n",
    "\n",
    "2. Base del sistema.\n",
    "\n",
    "3. Precisión."
   ]
  },
  {
   "cell_type": "markdown",
   "metadata": {},
   "source": [
    "Así, un número $x$ en el SPF, $x \\in \\mathcal{F}\\mathcal{l}$, se representa de la forma:\n",
    "\n",
    "$$\\pm 0.d_1d_2 \\dots d_k \\times \\beta^n .$$\n",
    "\n",
    "donde:\n",
    "\n",
    "$n$ es el exponente, $n \\in [L,U] \\cap \\mathbb{Z}$ con $L, U$ fijos.\n",
    "\n",
    "$k$ es la precisión.\n",
    "\n",
    "$\\beta$ es la base.\n",
    "\n",
    "$d_i \\in \\{0,1,\\dots,\\beta-1\\} \\forall i=1,\\dots,k$ son los dígitos.\n",
    "\n",
    "**Obs:** a la parte $\\pm 0.d_1d_2 \\dots d_k$ se le llama **mantisa**. A la porción $d_2 \\dots d_k$ se le llama **fracción $f$**."
   ]
  },
  {
   "cell_type": "markdown",
   "metadata": {},
   "source": [
    "Los números reales que tienen una representación exacta en el $\\mathcal{F}\\mathcal{l}$ se les conoce como **números de máquina**.\n",
    "\n",
    "**Ejemplo:**\n",
    "\n",
    "Supóngase un $\\mathcal{F}\\mathcal{l}$ con $\\beta = 10, k=4, n\\in[-4,3]\\cap \\mathbb{Z}$ entonces:\n",
    "\n",
    "$$0.333 \\times 10^{-1} , 0.3300 \\times 10^{3} \\in \\mathcal{F}\\mathcal{L}$$\n",
    "\n",
    "pero: $$\\frac{1}{3} \\notin \\mathcal{F}\\mathcal{l}$$\n",
    "\n",
    "por lo que $0.333 \\times 10^{-1} , 0.3300 \\times 10^{3}$ son números de máquina."
   ]
  },
  {
   "cell_type": "markdown",
   "metadata": {},
   "source": [
    "## SPFN"
   ]
  },
  {
   "cell_type": "markdown",
   "metadata": {},
   "source": [
    "Un Sistema de Punto Flotante Normalizado es aquel que cumple: $$d_1 \\in \\{1,2,\\dots \\beta -1\\}.$$ para números distintos de cero.\n",
    "\n",
    "**Obs: el número cero es el único que tiene dígitos de la mantisa y exponente iguales a cero.**"
   ]
  },
  {
   "cell_type": "markdown",
   "metadata": {},
   "source": [
    "**Ejemplos:**\n",
    "\n",
    "1) $\\beta = 10, k=3$, rango del exponente en $[-3,3] \\cap \\mathbb{Z}$, entonces algunos números en el SPFN:\n",
    "\n",
    "|Notación de punto flotante |Mantisa |Exponente|Valor de punto fijo|\n",
    "|:---:|:---:|:---:|:---:|\n",
    "|$0.153\\times10^0$|$0.153$|$0$|$0.153$|\n",
    "|$-0.990\\times10^2$|$-0.990$|$2$|$-99.0$|\n",
    "|$0.343\\times10^{-3}$|$0.343$|$-3$|$0.000343$|\n"
   ]
  },
  {
   "cell_type": "markdown",
   "metadata": {},
   "source": [
    "2) En un SPFN con $\\beta=2, k=3$, rango del exponente en $[0,2] \\cap \\mathbb{Z}$ se tiene:\n",
    "\n",
    "a) El número más grande positivo que es posible representar es:\n",
    "\n",
    "$$0.111 \\times 2^2 = (11.1)_2 = 1*2^1 + 1*2^0 + 1*2^{-1} = (3.5)_{10}.$$\n",
    "\n",
    "b) El más chico positivo es:\n",
    "\n",
    "$$0.100 \\times 2^0 = (0.1)_2 = 1*2^{-1} = (0.5)_{10}.$$\n",
    "\n",
    "\n",
    "**Obs: se utiliza $(\\cdot)_{10}$ para representar un número en base 10 pero típicamente se omite escribir paréntesis y la base.**\n",
    "\n",
    "**Obs2: la representación normalizada permite una representación única de los números reales en el $\\mathcal{F}{l}$:**\n",
    "\n",
    "el número $0.343 \\times 10^{-3}$ como se vio en el ejemplo $1)$ está en $\\mathcal{F}\\mathcal{l}$ pero ni $0.0343 \\times 10^{-2}$ ni $3.43 \\times 10^{-4}$ están en el $\\mathcal{F}\\mathcal{l}$.\n",
    "\n",
    "**Obs3: por la Obs2 en un SPFN con $\\beta=2$ no es necesario almacenar el primer bit pues siempre es $1$ por lo que sólo se almacenará la parte fraccionaria de la forma $1.f$ (más sobre esto en la siguiente sección).**"
   ]
  },
  {
   "cell_type": "markdown",
   "metadata": {},
   "source": [
    "## Números de máquina binarios"
   ]
  },
  {
   "cell_type": "markdown",
   "metadata": {},
   "source": [
    "Un SPF de doble precisión utiliza:\n",
    "\n",
    "* 64 bits para representar un número real. El primero es un indicador de signo denotado por $s$. Le siguen $11$ bits para construir al exponente $c$ llamado también **característica** y $52$ bits que construyen a la parte fraccionaria $f$ de la mantisa. La base es $\\beta=2$.\n",
    "\n",
    "**Nota 1: si es SPFN entonces aunque se tienen 52 bits, éstos se utilizan para almacenar un dígito más del número (ver Obs3 anterior). Así, en un SPF en general maneja 52 (o 53) dígitos binarios, que corresponden a aproximadamente 15 (o 16) dígitos decimales**. Ver: [Double-precision floating-point format](https://en.wikipedia.org/wiki/Double-precision_floating-point_format#Implementations)."
   ]
  },
  {
   "cell_type": "code",
   "execution_count": 2,
   "metadata": {},
   "outputs": [
    {
     "name": "stdout",
     "output_type": "stream",
     "text": [
      "52 bits corresponden aproximadamente a: 15.653560 dígitos decimales\n",
      "53 bits corresponden aproximadamente a: 15.954590 dígitos decimales\n"
     ]
    }
   ],
   "source": [
    "//%cflags:-lm\n",
    "#include<stdio.h>\n",
    "#include<math.h>\n",
    "int main(){\n",
    "    printf(\"52 bits corresponden aproximadamente a: %f dígitos decimales\\n\", log10(pow(2,52)));\n",
    "    printf(\"53 bits corresponden aproximadamente a: %f dígitos decimales\\n\", log10(pow(2,53)));\n",
    "    return 0;\n",
    "}"
   ]
  },
  {
   "cell_type": "markdown",
   "metadata": {},
   "source": [
    "**Nota 2: los 11 bits que se utilizan para construir al exponente producen un rango de $0$ a $2^{11}-1=2047:$**"
   ]
  },
  {
   "cell_type": "code",
   "execution_count": 3,
   "metadata": {},
   "outputs": [
    {
     "name": "stdout",
     "output_type": "stream",
     "text": [
      "Suma de 2^0 + 2^1 + ... + 2^10: 2047"
     ]
    }
   ],
   "source": [
    "//%cflags:-lm\n",
    "#include<stdio.h>\n",
    "#include<math.h>\n",
    "int main(){\n",
    "    int suma = 0;\n",
    "    int n=10;\n",
    "    int i;\n",
    "    for(i=0;i<=n;i++)\n",
    "        suma+=pow(2,i);\n",
    "    printf(\"Suma de 2^0 + 2^1 + ... + 2^10: %d\", suma);\n",
    "    return 0;\n",
    "}"
   ]
  },
  {
   "cell_type": "markdown",
   "metadata": {},
   "source": [
    "**pero esto construye un exponente con signo positivo, por lo que se resta (offset) la cantidad de $-1023$ de la característica y se tiene el rango del exponente en $[-1023,1024] \\cap \\mathbb{Z}$:**\n",
    "\n",
    "$$2^{c-1023}.$$\n",
    "\n",
    "Y un valor de $c=1023$ representa un exponente de $0$.\n",
    "\n",
    "**Nota3: los valores $-1023$ (todos los bits iguales a $0$) y $1024$ (todos los bits iguales a $1$) para la característica se reservan para números especiales. Por esto, el exponente corre en el rango de $[-1022, 1023] \\cap \\mathbb{Z}$.**"
   ]
  },
  {
   "cell_type": "markdown",
   "metadata": {},
   "source": [
    "**Nota4: todos los bits iguales a 0 para la característica se utiliza para representar al número 0 con signo (si su fracción $f$ es $0$) y a los números subnormales* (si su fracción $f$ es $\\neq0$). Todos los bits iguales a 1 se utiliza para representar $\\infty$ (si su fracción $f$ es $0$) y NaNs (si su fracción $f$ $\\neq 0$).**"
   ]
  },
  {
   "cell_type": "markdown",
   "metadata": {},
   "source": [
    "Entonces un número de máquina binario en un SPFN se representa por:\n",
    "\n",
    "$$(-1)^s2^{c-1023}(1+f)$$\n",
    "\n",
    "Y los subnormales como:\n",
    "\n",
    "$$(-1)^s2^{1-1023}(0+f)=(-1)^s2^{-1022}f.$$\n",
    "\n",
    "*Los números subnormales son todos aquellos números con magnitud menor al número más chico positivo normalizado. Con estos números se sacrifica precisión por representatividad alrededor del $0$. Para representar a estos números $d_1$ no es igual a $1$."
   ]
  },
  {
   "cell_type": "markdown",
   "metadata": {},
   "source": [
    "**Obs: hay dos representaciones para el $0$, una con signo positivo ($s=0, c=0, f=0$) y otra con signo negativo ($s=1,c=0,f=0$).**"
   ]
  },
  {
   "cell_type": "markdown",
   "metadata": {},
   "source": [
    "**Ejemplos:**"
   ]
  },
  {
   "cell_type": "markdown",
   "metadata": {},
   "source": [
    "1. El valor del exponente más chico para los números normales es: $2^{1-1023} = 2^{-1022}$.\n",
    "\n",
    "2. El valor del exponente más grande es: $2^{2046-1023} = 2^{1023}$.\n"
   ]
  },
  {
   "cell_type": "markdown",
   "metadata": {},
   "source": [
    "3. Considérese el número formado por:\n",
    "\n",
    "primer bit: $0$.\n",
    "\n",
    "bits de la característica: $10000000011$.\n",
    "\n",
    "bits de la mantisa: $1011100100010\\dots0$.\n",
    "\n",
    "Entonces:\n",
    "\n",
    "1. El número es positivo pues $s=0$: $(-1)^s = 1$.\n",
    "\n",
    "2. Los bits de la característica generan al número decimal:\n",
    "\n",
    "$$c = 1*2^{10} + 0*2^9+\\dots+0*2^2+1*2^1+1*2^0=1024+2+1=1027$$\n",
    "\n",
    "por lo que el exponente es $4$: $2^{1027-1023}=2^4$.\n",
    "\n",
    "3. Los bits de la mantisa generan al número decimal:\n",
    "\n",
    "$$1*2^{-1} + 1*2^{-3}+1*2^{-4}+1*2^{-5}+1*2^{-8} + 1*2^{-12} = 0.7229.$$"
   ]
  },
  {
   "cell_type": "code",
   "execution_count": 4,
   "metadata": {},
   "outputs": [
    {
     "name": "stdout",
     "output_type": "stream",
     "text": [
      "Suma de 2^-1 + 2^-3 + 2^-4+2^-5+2^-8+2^-12: 0.722900"
     ]
    }
   ],
   "source": [
    "//%cflags:-lm\n",
    "#include<stdio.h>\n",
    "#include<math.h>\n",
    "int main(){\n",
    "    printf(\"Suma de 2^-1 + 2^-3 + 2^-4+2^-5+2^-8+2^-12: %f\", pow(2,-1)+pow(2,-3)+pow(2,-4)+pow(2,-5)+pow(2,-8)+pow(2,-12));\n",
    "    return 0;\n",
    "}"
   ]
  },
  {
   "cell_type": "markdown",
   "metadata": {},
   "source": [
    "Entonces el número de máquina binario $0$ $10000000011$ $1011100100010\\dots0$ es el número decimal:\n",
    "\n",
    "$$(-1)^s2^{c-1023}(1+f)=(-1)^{0}2^{4}(1+0.7229) =27.5664 $$\n"
   ]
  },
  {
   "cell_type": "code",
   "execution_count": 5,
   "metadata": {},
   "outputs": [
    {
     "name": "stdout",
     "output_type": "stream",
     "text": [
      "2^4(1.7229): 27.566400"
     ]
    }
   ],
   "source": [
    "//%cflags:-lm\n",
    "#include<stdio.h>\n",
    "#include<math.h>\n",
    "int main(){\n",
    "    printf(\"2^4(1.7229): %f\",pow(2,4)*1.7229);\n",
    "    return 0;\n",
    "}"
   ]
  },
  {
   "cell_type": "markdown",
   "metadata": {},
   "source": [
    "## Valores interesantes en un SPFN de doble precisión"
   ]
  },
  {
   "cell_type": "markdown",
   "metadata": {},
   "source": [
    "El número de máquina más grande positivo normalizado es: $$2^{1023}(1+(2^{-1}+\\dots+2^{-52}))=2^{1023}(1+(1-2^{-52})) = 2^{1023}(2-2^{-52}) \\approx 1.7977 \\times 10^{308}.$$"
   ]
  },
  {
   "cell_type": "code",
   "execution_count": 6,
   "metadata": {},
   "outputs": [
    {
     "name": "stdout",
     "output_type": "stream",
     "text": [
      "Numéro más grande positivo: 1.797693e+308\n"
     ]
    }
   ],
   "source": [
    "#include<stdio.h>\n",
    "#include<float.h>\n",
    "int main(){\n",
    "    printf(\"Numéro más grande positivo: %e\\n\", DBL_MAX);\n",
    "    return 0;\n",
    "}\n"
   ]
  },
  {
   "cell_type": "markdown",
   "metadata": {},
   "source": [
    "Números que rebasen este límite superior resultan en un **overflow**:"
   ]
  },
  {
   "cell_type": "code",
   "execution_count": 4,
   "metadata": {},
   "outputs": [
    {
     "name": "stdout",
     "output_type": "stream",
     "text": [
      "overflow: inf\n"
     ]
    }
   ],
   "source": [
    "//%cflags:-lm\n",
    "#include<stdio.h>\n",
    "#include<float.h>\n",
    "#include<math.h>\n",
    "int main(){\n",
    "    printf(\"overflow: %e\\n\", DBL_MAX + 0.0000000000000001*pow(10,308));\n",
    "    return 0;\n",
    "}\n"
   ]
  },
  {
   "cell_type": "markdown",
   "metadata": {},
   "source": [
    "**Ejercicio: da más ejemplos de ejecuciones como la anterior que resulten en overflow.**"
   ]
  },
  {
   "cell_type": "code",
   "execution_count": 18,
   "metadata": {},
   "outputs": [
    {
     "name": "stdout",
     "output_type": "stream",
     "text": [
      "overflow: inf\n"
     ]
    }
   ],
   "source": [
    "//%cflags:-lm\n",
    "#include<stdio.h>\n",
    "#include<float.h>\n",
    "#include<math.h>\n",
    "\n",
    "double factorial(int n) {\n",
    "   if(n < 0) {\n",
    "       return 0;\n",
    "   }\n",
    "   else{\n",
    "       if(n > 1){\n",
    "           return n*factorial(n-1);\n",
    "       } \n",
    "   }\n",
    "   return 1;\n",
    "}\n",
    "\n",
    "int main(){\n",
    "    printf(\"overflow: %f\\n\", factorial(1000));\n",
    "    return 0;\n",
    "}\n"
   ]
  },
  {
   "cell_type": "markdown",
   "metadata": {},
   "source": [
    "El número de máquina **normalizado** más pequeño positivo es: $$2^{-1022}(1+0) \\approx 2.2251 \\times 10^{-308}.$$"
   ]
  },
  {
   "cell_type": "code",
   "execution_count": 8,
   "metadata": {},
   "outputs": [],
   "source": [
    "#include<stdio.h>\n",
    "#include<float.h>\n",
    "int main(){\n",
    "    printf(\"Numéro normalizado más chico positivo: %e\\n\", DBL_MIN);\n",
    "    return 0;\n",
    "}\n"
   ]
  },
  {
   "cell_type": "markdown",
   "metadata": {},
   "source": [
    "El número de máquina no normalizado o **subnormalizado** más chico positivo es del orden de $2^{-1022}(2^{-52})=2^{-1074} \\approx 10^{-324}$."
   ]
  },
  {
   "cell_type": "code",
   "execution_count": 9,
   "metadata": {},
   "outputs": [
    {
     "name": "stdout",
     "output_type": "stream",
     "text": [
      "Numéro más chico positivo: 4.940656e-324\n"
     ]
    }
   ],
   "source": [
    "//%cflags:-lm\n",
    "#include<stdio.h>\n",
    "#include<float.h>\n",
    "#include<math.h>\n",
    "int main(){\n",
    "    printf(\"Numéro más chico positivo: %e\\n\", pow(2,-52)*DBL_MIN);\n",
    "    return 0;\n",
    "}"
   ]
  },
  {
   "cell_type": "markdown",
   "metadata": {},
   "source": [
    "Números con magnitud más chica que el valor anterior resultan en un **underflow**:"
   ]
  },
  {
   "cell_type": "markdown",
   "metadata": {},
   "source": [
    "**Ejercicio: da más ejemplos de ejecuciones como la anterior que resulten en underflow.**"
   ]
  },
  {
   "cell_type": "code",
   "execution_count": 10,
   "metadata": {},
   "outputs": [
    {
     "name": "stdout",
     "output_type": "stream",
     "text": [
      "Underflow: 0.000000e+00\n"
     ]
    }
   ],
   "source": [
    "//%cflags:-lm\n",
    "#include<stdio.h>\n",
    "#include<float.h>\n",
    "#include<math.h>\n",
    "int main(){\n",
    "    printf(\"Underflow: %e\\n\",(1-.5)*pow(2,-52)*DBL_MIN);\n",
    "    return 0;\n",
    "}"
   ]
  },
  {
   "cell_type": "code",
   "execution_count": 33,
   "metadata": {},
   "outputs": [
    {
     "name": "stderr",
     "output_type": "stream",
     "text": [
      "[C kernel] Executable exited with code -11"
     ]
    }
   ],
   "source": [
    "//%cflags:-lm\n",
    "#include<stdio.h>\n",
    "#include<float.h>\n",
    "#include<math.h>\n",
    "\n",
    "double factorial_inverso(double n) {\n",
    "   if(n < 0) {\n",
    "       return 0;\n",
    "   }\n",
    "   else{\n",
    "       if(n > 1){\n",
    "           return factorial_inverso(n-1)/n;\n",
    "       } \n",
    "   }\n",
    "   return 1;\n",
    "}\n",
    "\n",
    "int main(){\n",
    "    printf(\"Underflow: %f\\n\", factorial_inverso(2000000));\n",
    "    return 0;\n",
    "}\n"
   ]
  },
  {
   "cell_type": "code",
   "execution_count": 40,
   "metadata": {},
   "outputs": [
    {
     "name": "stdout",
     "output_type": "stream",
     "text": [
      "Underflow: 0.000000e+00\n"
     ]
    }
   ],
   "source": [
    "//%cflags:-lm\n",
    "#include<stdio.h>\n",
    "#include<float.h>\n",
    "#include<math.h>\n",
    "int main(){\n",
    "    printf(\"Underflow: %e\\n\",DBL_MIN*DBL_MIN);\n",
    "    return 0;\n",
    "}"
   ]
  },
  {
   "cell_type": "markdown",
   "metadata": {},
   "source": [
    "**Epsilon de la máquina $\\epsilon_{maq}$**"
   ]
  },
  {
   "cell_type": "code",
   "execution_count": 11,
   "metadata": {},
   "outputs": [
    {
     "name": "stdout",
     "output_type": "stream",
     "text": [
      "Epsilon de la máquina equivale aproximadamente a 2^(-53): 1.110223e-16\n"
     ]
    }
   ],
   "source": [
    "//%cflags:-lm\n",
    "#include<stdio.h>\n",
    "#include<float.h>\n",
    "#include<math.h>\n",
    "int main(){\n",
    "    printf(\"Epsilon de la máquina equivale aproximadamente a 2^(-53): %e\\n\", DBL_EPSILON/2);\n",
    "    return 0;\n",
    "}"
   ]
  },
  {
   "cell_type": "markdown",
   "metadata": {},
   "source": [
    "El valor anterior representa el máximo error relativo* en la representación de un número real en su número de máquina. Como se observa en la ejecución anterior $\\epsilon_{maq} \\approx 2^{-53} \\approx 1.11 \\times 10 ^{-16}$ por lo que tenemos alrededor de $15$ o $16$ dígitos de precisión para un número real en el SPFN de doble precisión.\n",
    "\n",
    "*Si `aprox` es mi cantidad con la que aproximo a mi objetivo `obj` entonces el error absoluto de `aprox` y el error relativo de `aprox` es:\n",
    "\n",
    "$$ErrAbs(aprox) = |aprox - obj|.$$\n",
    "\n",
    "$$ErrRel(aprox) = \\frac{ErrAbs(aprox)}{|obj|}.$$\n",
    "\n",
    "**Obs: si $ErrRel(aprox) \\approx 10^{-k}$ se dice que `aprox` aproxima a `obj` con alrededor de $k$ dígitos correctos.**"
   ]
  },
  {
   "cell_type": "markdown",
   "metadata": {},
   "source": [
    "**Obs2: otras definiciones para $\\epsilon_{maq}$ son:**\n",
    "\n",
    "* $\\epsilon_{maq}$ es el número más chico positivo tal que: $1 + \\epsilon_{maq} \\neq 1$ a precisión de la máquina.\n",
    "\n",
    "* $\\epsilon_{maq}$ es la distancia del número $1$ al siguiente número de máquina.\n",
    "\n",
    "Aunque las tres definiciones pueden diferir ligeramente, las tres pretenden dar la medida de granularidad de un SPF. Una representación gráfica para números positivos de un SPF es la siguiente:\n",
    "\n"
   ]
  },
  {
   "cell_type": "markdown",
   "metadata": {},
   "source": [
    "<img src=\"https://dl.dropboxusercontent.com/s/bkxfiqni0f8izhi/SPFN_graficamente.png?dl=0\" heigth=\"500\" width=\"500\">"
   ]
  },
  {
   "cell_type": "markdown",
   "metadata": {},
   "source": [
    "y se tienen las siguientes afirmaciones:\n",
    "\n",
    "* El intervalo $[1,2]$ en un SPFN de doble precisión está formado por la secuencia de números de máquina: $1, 1+ 2^{-52}, 1 + 2\\times 2^{-52}, 1+ 3\\times2^{-52}, \\dots, 2$.\n",
    "\n",
    "* El intervalo $[2,4]$ en tal sistema está formado por: $2, 2+ 2^{-51}, 2 + 2\\times 2^{-51}, 2+ 3\\times2^{-51}, \\dots, 4$.\n",
    "\n",
    "Por lo que el intervalo $[2^j, 2^{j+1}]$ se obtiene multiplicando $2^j$ veces la secuencia en $[1,2]$ y los huecos entre un número de máquina y otro número de máquina no son en términos relativos más grandes que $2^{-52} \\approx 2.22 \\times 10^{-16}$.\n",
    "\n",
    "Asimismo, el intervalo $[\\frac{1}{2}, 1]$ en tal sistema está formado por: $\\frac{1}{2}, \\frac{1}{2}+2^{-53},\\frac{1}{2}+2\\times2^{-53},\\frac{1}{2}+3\\times2^{-53}\\dots , 1$.\n",
    "\n",
    "Entonces el espaciado entre cada número de máquina en el intervalo $[2^j, 2^{j+1}]$ siempre es menor o igual a $2^{-53} = \\epsilon_{maq}$. Para lo anterior, obsérvese que el espaciado en el intervalo $[2^j, 2^{j+1}]$ para los números de máquina es $2^{j-52}$ y por tanto: error_relativo$($número de máquina$_{j+1}$ - número de máquina$_{j})=\\frac{2^{j-52}}{2^{j+1}} = 2^{-53}$."
   ]
  },
  {
   "cell_type": "markdown",
   "metadata": {},
   "source": [
    "**Obs2: una forma computacional de obtener al $\\epsilon_{maq}$ de forma sencilla es con el cálculo:**"
   ]
  },
  {
   "cell_type": "code",
   "execution_count": 12,
   "metadata": {},
   "outputs": [
    {
     "name": "stdout",
     "output_type": "stream",
     "text": [
      "Epsilon de la máquina: 2.220446e-16\n"
     ]
    }
   ],
   "source": [
    "#include<stdio.h>\n",
    "#include<float.h>\n",
    "int main(){\n",
    "    printf(\"Epsilon de la máquina: %e\\n\", 1-3.0*(4/3.0-1));\n",
    "    return 0;\n",
    "}"
   ]
  },
  {
   "cell_type": "markdown",
   "metadata": {},
   "source": [
    "**Pregunta: ¿por qué funciona esto? tip: imprímase el cálculo $3.0*(4/3.0-1)$ con el especificador de formato de la función `printf` `%.16f` o bien `%.15e`**\n",
    "\n",
    "Respuesta: Con 16 número decimales la respuesta es mayor que cero mientras que con 15 ya redondea. \n"
   ]
  },
  {
   "cell_type": "code",
   "execution_count": 42,
   "metadata": {},
   "outputs": [
    {
     "name": "stdout",
     "output_type": "stream",
     "text": [
      "Epsilon de la máquina: 0.0000000000000002\n",
      "Epsilon de la máquina: 0.000000000000000\n"
     ]
    }
   ],
   "source": [
    "#include<stdio.h>\n",
    "#include<float.h>\n",
    "int main(){\n",
    "    printf(\"Epsilon de la máquina: %.16f\\n\", 1-3.0*(4/3.0-1));\n",
    "    printf(\"Epsilon de la máquina: %.15f\\n\", 1-3.0*(4/3.0-1));\n",
    "    return 0;\n",
    "}"
   ]
  },
  {
   "cell_type": "markdown",
   "metadata": {},
   "source": [
    "## Reglas de corte y redondeo"
   ]
  },
  {
   "cell_type": "markdown",
   "metadata": {},
   "source": [
    "Al ver el diagrama anterior de la representación gráfica de un SPF se observa que existen huecos entre cada número de máquina. Lo anterior implica que al ingresar un número real $x$ en la computadora, ésta realiza una aproximación a $x$ que se encuentre en el SPF. Esta aproximación genera errores conocidos con el nombre de **errores por redondeo**.\n",
    "\n",
    "Entre las reglas que una computadora realiza para dar las aproximaciones a un número $x \\in \\mathbb{R}$ están: la regla de corte y la de redondeo y se pueden representar con funciones matemáticas:\n",
    "\n",
    "**Regla de corte:** sea $fl_c : \\mathbb{R} \\rightarrow \\mathcal{F}\\mathcal{l}$ una función cuya regla de correspondencia es: $x \\in \\mathbb{R}$ con $x$ en el rango de valores del SPF, entonces: $x = \\pm 0.d_1d_2 \\dots d_kd_{k+1}\\dots \\times \\beta^n$ y la regla de corte a $k$ dígitos es: $fl_c(x) = \\pm 0.d_1d_2 \\dots d_k$.\n",
    "\n",
    "**Regla de redondeo:** sean $\\beta=10$ y $fl_r : \\mathbb{R} \\rightarrow \\mathcal{F}\\mathcal{l}$ una función cuya regla de correspondencia es: $x \\in \\mathbb{R}$ con $x$ en el rango de valores del SPF, entonces: $x = \\pm 0.d_1d_2 \\dots d_kd_{k+1}\\dots \\times \\beta^n$ y la regla de redondeo es:\n",
    "\n",
    " $$f_r(x) = \\begin{cases}\n",
    "\\text{sumar uno a } d_k & \\text{si } d_{k+1} \\geq 5,\\\\\n",
    "f_c(x) & \\text{en otro caso}\n",
    "\\end{cases}$$\n",
    "\n",
    "**Obs: también la regla $fl_r(\\cdot)$ se define como antes pero se añade la restricción entre si es par o impar el último dígito en caso de empate, entonces se almacena el par.**"
   ]
  },
  {
   "cell_type": "markdown",
   "metadata": {},
   "source": [
    "**Ejemplos:**"
   ]
  },
  {
   "cell_type": "markdown",
   "metadata": {},
   "source": [
    "1)\n",
    "\n",
    "$\\pi=3.141592\\dots = 0.3141592\\dots \\times 10^1$. Si un SPFN usa $k=5$ entonces:\n",
    "\n",
    "$$fl_c(\\pi) = 0.31415.$$\n",
    "\n",
    "$$fl_r(\\pi) = 0.31416.$$"
   ]
  },
  {
   "cell_type": "markdown",
   "metadata": {},
   "source": [
    "2) Supóngase que $fl_r(\\cdot)$ hace diferencia entre el último dígito almacenado es par e impar. Entonces para $k=2$:\n",
    "\n",
    "|Número: x|Corte: $fl_c(x)$|Redondeo: $fl_r(x)$| \n",
    "|:--:|:--:|:--:|\n",
    "|0.1649|0.16|0.16|\n",
    "|0.1650|0.16|0.16|\n",
    "|0.1651|0.16|0.17|\n",
    "|0.1749|0.17|0.17|\n",
    "|0.1750|0.17|0.18|\n",
    "|0.1751|0.17|0.18|\n"
   ]
  },
  {
   "cell_type": "markdown",
   "metadata": {},
   "source": [
    "Por los ejemplos anteriores se puede comprobar que la regla de redondeo tiene más exactitud que la de corte:"
   ]
  },
  {
   "cell_type": "markdown",
   "metadata": {},
   "source": [
    "<img src=\"https://dl.dropboxusercontent.com/s/e8iqxqelkxj1y8r/regla_corte_redondeo.png?dl=0\" heigth=\"500\" width=\"500\">"
   ]
  },
  {
   "cell_type": "markdown",
   "metadata": {},
   "source": [
    "**Nota: otra expresión utilizada para la regla $fl(\\cdot)$ es a partir de la definición de error relativo: $aprox = obj(1+ErrRel(aprox))$ (si $aprox \\geq obj$ y $obj > 0$):**\n",
    "\n",
    "$$\\forall{x}\\in \\mathbb{R} \\exists \\epsilon \\in \\mathbb{R} \\text{ con } |\\epsilon| \\leq \\epsilon_{maq} \\text{ tal que: }.$$\n",
    "\n",
    "$$fl(x) = x(1+\\epsilon), |\\epsilon| \\leq \\epsilon_{maq}.$$\n",
    "\n",
    "cuya interpretación es: la diferencia entre $x$ con $fl(x)$ es un término (en magnitud) de a lo más $\\epsilon_{maq}$ relativo a $|x|$."
   ]
  },
  {
   "cell_type": "markdown",
   "metadata": {},
   "source": [
    "**Nota: un resultado que se puede verificar es:**\n",
    "\n",
    " $$\\epsilon_{maq} = \\begin{cases}\n",
    "\\beta^{1-k} &\\text{ si se utiliza regla de corte},\\\\\n",
    "\\frac{1}{2}\\beta^{1-k} &\\text{ si se utiliza la regla de redondeo}\n",
    "\\end{cases}$$"
   ]
  },
  {
   "cell_type": "markdown",
   "metadata": {},
   "source": [
    "**Ejemplo:**\n",
    "\n",
    "Considérese un SPFN con $\\beta=2, k=3$ entonces si se utiliza la regla de corte:\n",
    "\n",
    "$$\\epsilon_{maq} = \\beta^{1-k} = \\beta^{-2}=2^{-2}=0.25.$$\n",
    "\n",
    "si se utiliza la regla de redondeo:\n",
    "\n",
    "$$\\epsilon_{maq} = \\frac{1}{2}\\beta^{1-k} = \\frac{1}{2}\\beta^{-2}=\\frac{1}{2}2^{-2}=0.125.$$"
   ]
  },
  {
   "cell_type": "markdown",
   "metadata": {},
   "source": [
    "## Aritmética de máquina."
   ]
  },
  {
   "cell_type": "markdown",
   "metadata": {},
   "source": [
    "Además de representar números reales en la máquina otro objetivo es el de realizar operaciones entre ellos. Si la representación de números tiene un error asociado (error por redondeo) entonces es natural pensar que las operaciones aritméticas también tendrán errores por redondeo. Las razones de los errores son nuevamente el uso de precisión finita y la conversión entre bases: al ingresar números a la computadora se convierte a base $2$ (por ejemplo), se realizan operaciones y el resultado se presenta en base $10$. \n",
    "\n",
    "Para analizar los errores por redondeo que se presentan en la aritmética de máquina es suficiente considerar la base $10$, no conversiones entre bases (por ejemplo de la base $2$ a la base $10$)) y utilizar los siguientes operadores y suposiciones:\n",
    "\n",
    "Supongamos que se tiene un SPFN y $fl(\\cdot)$ regla de corte o redondeo a una precisión $k$ dada. Sean $a,b \\in \\mathbb{R}$, se definen los siguientes operadores en el SPFN:\n",
    "\n",
    "$$\\oplus: \\mathbb{R}^2 \\rightarrow \\mathcal{F}\\mathcal{l} \\quad a \\oplus b = fl(fl(a) + fl(b)).$$\n"
   ]
  },
  {
   "cell_type": "markdown",
   "metadata": {},
   "source": [
    "$$\\ominus: \\mathbb{R}^2 \\rightarrow \\mathcal{F}\\mathcal{l} \\quad a \\ominus b = fl(fl(a) - fl(b)).$$\n"
   ]
  },
  {
   "cell_type": "markdown",
   "metadata": {},
   "source": [
    "$$\\otimes: \\mathbb{R}^2 \\rightarrow \\mathcal{F}\\mathcal{l} \\quad a \\otimes b = fl(fl(a) \\cdot fl(b)).$$\n"
   ]
  },
  {
   "cell_type": "markdown",
   "metadata": {},
   "source": [
    "$$\\oslash: \\mathbb{R}^2 \\rightarrow \\mathcal{F}\\mathcal{l} \\quad a \\oslash b = fl(fl(a) \\div fl(b)).$$\n"
   ]
  },
  {
   "cell_type": "markdown",
   "metadata": {},
   "source": [
    "**Ejercicio:**\n",
    "\n",
    "Considérese $x = \\frac{5}{7} \\approx \\overline{0.714285}$, $y=\\frac{1}{3} = \\overline{.3}$, $u=0.714251, v=98765.9, w=0.111111 \\times 10^{-4}$ y un SPFN con $\\beta=10, k=5$. Entonces llenar la siguiente tabla de acuerdo a las instrucciones:\n",
    "\n",
    "\n",
    "1. En la columna \"Aritmética de máquina con k=8\" se realiza aritmética a $8$ dígitos con las operaciones definidas previamente $\\oplus, \\ominus, \\otimes, \\oslash$ con la regla de corte $fl_c(\\cdot)$. \n",
    "\n",
    "2. En la columna \"Aritmética de máquina con k=5\" se realiza aritmética a $5$ dígitos con las operaciones definidas previamente $\\oplus, \\ominus, \\otimes, \\oslash$ con la regla de corte $fl_c(\\cdot)$. \n",
    "\n",
    "3. Para el cálculo de errores absoluto y relativo tomar como valor real u objetivo el valor a $8$ dígitos.\n",
    "\n",
    "|Operación|Aritmética de máquina con k=8| Aritmética de máquina con k=5|Error Absoluto de aprox|Error Relativo de aprox|\n",
    "|:--:|:--:|:--:|:--:|:--:|\n",
    "|x $\\oplus$y|||||\n",
    "|x$\\ominus$y|||||\n",
    "|x$\\otimes$y|||||\n",
    "|x$\\oslash$y|||||\n",
    "|x$\\ominus$u|||||\n",
    "|(x$\\ominus$u)$\\oslash$w|||||\n",
    "|(x$\\ominus$u)$\\otimes$ v|||||\n",
    "|u$\\oplus$v|||||"
   ]
  },
  {
   "cell_type": "markdown",
   "metadata": {},
   "source": [
    "**Ejemplo:**\n",
    "\n",
    "El resultado del primer renglón con aritmética exacta es: \n",
    "\n",
    "$$x+y = \\frac{5}{7} + \\frac{1}{3} = \\frac{22}{21} \\approx 0.10476190.$$"
   ]
  },
  {
   "cell_type": "markdown",
   "metadata": {},
   "source": [
    "Para el llenado de las columnas:\n",
    "\n",
    "1. Aritmética de máquina a $8$ dígitos usamos $k=8$: $x \\oplus_8 y = fl_c(0.71428571 + 0.33333333) = 0.10476190 \\times 10^1$.\n",
    "\n",
    "2. Aritmética de máquina usamos $k=5$: $x \\oplus_5 y = fl_c(fl_c(x)+fl_c(y)) = fl_c(0.71428 + 0.33333) = fl_c(0.104761\\times10^1) = 0.10476 \\times10^1$.\n",
    "\n",
    "3. Error absoluto de aprox: $ErrAbs(x \\oplus_5 y) =  |(x \\oplus_8) y - (x \\oplus_5)| = |0.10476190 \\times 10^1 - 0.10476 \\times10^1| = |0.00000190| = .190 \\times 10^{-5}$.\n",
    "\n",
    "4. Error relativo de aprox: $ErrRel(x \\oplus_5 y) = \\frac{ErrAbs(x \\oplus_5 y)}{|x \\oplus_8|} =\\frac{.190 \\times 10^{-5}}{0.10476190 \\times 10^1} \\approx 1.81 \\times 10^{-6} = 0.181 \\times 10^{-5}$."
   ]
  },
  {
   "cell_type": "code",
   "execution_count": 50,
   "metadata": {},
   "outputs": [
    {
     "name": "stdout",
     "output_type": "stream",
     "text": [
      "-------- PRECISION 16 --------\n",
      "valor x a 16 dígitos: 7.1428571428571430e-01\n",
      "valor y a 16 dígitos: 3.3333333333333331e-01\n",
      "valor u a 16 dígitos: 7.1425099999999997e-01\n",
      "valor v a 16 dígitos: 9.8765899999999994e+04\n",
      "x+y a 16 dígitos 1.0476190476190477e+00\n",
      "x*y a 16 dígitos 2.3809523809523808e-01\n",
      "x-u a 8 dígitos 3.4714285714332327e-05\n",
      "(x-u)*v a 8 dígitos 3.4285876714331751e+00\n",
      "\n",
      "-------- PRECISION 8 --------\n",
      "valor x a 8 dígitos: 7.1428571e-01\n",
      "valor y a 8 dígitos: 3.3333333e-01\n",
      "valor u a 8 dígitos: 7.1425100e-01\n",
      "valor v a 8 dígitos: 9.8765899e+04\n",
      "x+y a 8 dígitos 1.0476190e+00\n",
      "x*y a 8 dígitos 2.3809523e-01\n",
      "x-u a 8 dígitos 3.4700000e-05\n",
      "(x-u)*v a 8 dígitos 3.4271766e+00\n",
      "\n",
      "-------- PRECISION 5 --------\n",
      "valor x a 5 dígitos: 7.1428e-01\n",
      "valor y a 5 dígitos: 3.3333e-01\n",
      "valor u a 5 dígitos: 7.1425e-01\n",
      "valor v a 5 dígitos: 9.8765e+04\n",
      "x+y a 5 dígitos 1.0470e+00\n",
      "x*y a 5 dígitos 2.3809e-01\n",
      "x-u a 5 dígitos 2.0000e-05\n",
      "(x-u)*v a 5 dígitos 1.9753e+00\n",
      "\n",
      "========= ERRORES =======\n",
      "-------- Suma (x+y) --------\n",
      "Error absoluto de aprox: 6.190000e-04\n",
      "Error relativo de aprox: 5.908637e-04\n",
      "-------- Multiplicacion (x*y) --------\n",
      "Error absoluto de aprox: 5.230000e-06\n",
      "Error relativo de aprox: 2.196600e-05\n",
      "-------- Resta (x-u)--------\n",
      "Error absoluto de aprox: 1.470000e-05\n",
      "Error relativo de aprox: 4.236311e-01\n",
      "-------- Resta y multipicacion (x-u)*v --------\n",
      "Error absoluto de aprox: 1.451877e+00\n",
      "Error relativo de aprox: 4.236364e-01\n"
     ]
    }
   ],
   "source": [
    "//%cflags:-lm\n",
    "#include<stdio.h>\n",
    "#include<stdlib.h>\n",
    "#include<math.h>\n",
    "#include<string.h>\n",
    "\n",
    "double fl_c_k(double a, int k){\n",
    "    double resp;\n",
    "    if (a < 1){\n",
    "        resp = (double)((int)(pow(10,k)*a)*pow(10,-k));\n",
    "    }\n",
    "    else{\n",
    "        int num = (int)log10(a); //Número de cero que tiene el número (lugares) \n",
    "        int k2 = num + 1 - k;\n",
    "        resp = (int)(a/(pow(10,k2)))*pow(10,k2);\n",
    "    }\n",
    "    return resp;\n",
    "}\n",
    "\n",
    "double err_abs(double aprox, double obj){   \n",
    "    return fabs(obj-aprox);\n",
    "}\n",
    "\n",
    "double err_rel(double errabs, double obj){\n",
    "    return errabs/fabs(obj);\n",
    "}\n",
    "\n",
    "int main(){\n",
    "    double x = 5/7.0;\n",
    "    double y = 1/3.0;\n",
    "    double u=0.714251;\n",
    "    double v = 98765.9;\n",
    "    double w=0.0000111111;\n",
    "    \n",
    "    double op1=0;\n",
    "    double op3=0;\n",
    "    double op5=0;\n",
    "    double op7=0;\n",
    "    \n",
    "    double op1_5=0;\n",
    "    double op3_5=0;\n",
    "    double op5_5=0;\n",
    "    double op7_5=0;\n",
    "    \n",
    "    int k;\n",
    "\n",
    "    printf(\"-------- PRECISION 16 --------\\n\");\n",
    "    printf(\"valor x a 16 dígitos: %.16e\\n\", x);\n",
    "    printf(\"valor y a 16 dígitos: %.16e\\n\", y);\n",
    "    printf(\"valor u a 16 dígitos: %.16e\\n\", u);\n",
    "    printf(\"valor v a 16 dígitos: %.16e\\n\", v);\n",
    "    \n",
    "    printf(\"x+y a 16 dígitos %.16e\\n\", x+y);\n",
    "    printf(\"x*y a 16 dígitos %.16e\\n\", x*y);\n",
    "    printf(\"x-u a 8 dígitos %.16e\\n\", (x-u));\n",
    "    printf(\"(x-u)*v a 8 dígitos %.16e\\n\", (x-u)*v);\n",
    "    \n",
    "    \n",
    "    printf(\"\\n-------- PRECISION 8 --------\\n\");\n",
    "    k=8; //precisión 8\n",
    "    printf(\"valor x a 8 dígitos: %0.7e\\n\", fl_c_k(x,k));\n",
    "    printf(\"valor y a 8 dígitos: %0.7e\\n\", fl_c_k(y,k));\n",
    "    printf(\"valor u a 8 dígitos: %0.7e\\n\", fl_c_k(u,k));\n",
    "    printf(\"valor v a 8 dígitos: %0.7e\\n\", fl_c_k(v,k));\n",
    "    \n",
    "    op1 = fl_c_k(fl_c_k(x,k)+fl_c_k(y,k),k-1); //k-1 para seguir manteniendo 5 dígitos pues la suma aumenta un dígito\n",
    "    printf(\"x+y a 8 dígitos %0.7e\\n\", op1);\n",
    "    \n",
    "    op3 = fl_c_k(fl_c_k(x,k)*fl_c_k(y,k),k); \n",
    "    printf(\"x*y a 8 dígitos %0.7e\\n\", op3);\n",
    "    \n",
    "    op5 = fl_c_k(fl_c_k(x,k)-fl_c_k(u,k),k); \n",
    "    printf(\"x-u a 8 dígitos %0.7e\\n\", op5);\n",
    "    \n",
    "    op7 = fl_c_k( fl_c_k(fl_c_k(x,k)-fl_c_k(u,k),k)*fl_c_k(v,k),k) ; \n",
    "    printf(\"(x-u)*v a 8 dígitos %0.7e\\n\", op7);\n",
    "    \n",
    "    printf(\"\\n-------- PRECISION 5 --------\\n\");\n",
    "    k=5; //precisión 5\n",
    "    printf(\"valor x a 5 dígitos: %0.4e\\n\", fl_c_k(x,k));\n",
    "    printf(\"valor y a 5 dígitos: %0.4e\\n\", fl_c_k(y,k));\n",
    "    printf(\"valor u a 5 dígitos: %0.4e\\n\", fl_c_k(u,k));\n",
    "    printf(\"valor v a 5 dígitos: %0.4e\\n\", fl_c_k(v,k));\n",
    "\n",
    "    op1_5 = fl_c_k(fl_c_k(x,k)+fl_c_k(y,k),k-1); //k-1 para seguir manteniendo 5 dígitos pues la suma aumenta un dígito\n",
    "    printf(\"x+y a 5 dígitos %0.4e\\n\", op1_5);\n",
    "    \n",
    "    op3_5 = fl_c_k(fl_c_k(x,k)*fl_c_k(y,k),k); //k-1 para seguir manteniendo 5 dígitos pues la suma aumenta un dígito\n",
    "    printf(\"x*y a 5 dígitos %0.4e\\n\", op3_5);\n",
    "    \n",
    "    op5_5 = fl_c_k(fl_c_k(x,k)-fl_c_k(u,k),k); \n",
    "    printf(\"x-u a 5 dígitos %0.4e\\n\", op5_5);\n",
    "    \n",
    "    op7_5 = fl_c_k(fl_c_k(fl_c_k(x,k)-fl_c_k(u,k),k)*fl_c_k(v,k),k) ; \n",
    "    printf(\"(x-u)*v a 5 dígitos %0.4e\\n\", op7_5);\n",
    "    \n",
    "    printf(\"\\n========= ERRORES =======\\n\");\n",
    "    printf(\"-------- Suma (x+y) --------\\n\");\n",
    "    printf(\"Error absoluto de aprox: %e\\n\",err_abs(op1_5,op1));\n",
    "    printf(\"Error relativo de aprox: %e\\n\",err_rel(err_abs(op1_5,op1),op1));\n",
    "    \n",
    "    printf(\"-------- Multiplicacion (x*y) --------\\n\");\n",
    "    printf(\"Error absoluto de aprox: %e\\n\",err_abs(op3_5,op3));\n",
    "    printf(\"Error relativo de aprox: %e\\n\",err_rel(err_abs(op3_5,op3),op3));\n",
    "                                        \n",
    "    printf(\"-------- Resta (x-u)--------\\n\");\n",
    "    printf(\"Error absoluto de aprox: %e\\n\",err_abs(op5_5,op5));\n",
    "    printf(\"Error relativo de aprox: %e\\n\",err_rel(err_abs(op5_5,op5),op5));\n",
    "                   \n",
    "                   \n",
    "    printf(\"-------- Resta y multipicacion (x-u)*v --------\\n\");\n",
    "    printf(\"Error absoluto de aprox: %e\\n\",err_abs(op7_5,op7));\n",
    "    printf(\"Error relativo de aprox: %e\\n\",err_rel(err_abs(op7_5,op7),op7));\n",
    "                   \n",
    "    return 0;\n",
    "    \n",
    "    \n",
    "}"
   ]
  },
  {
   "cell_type": "code",
   "execution_count": 1,
   "metadata": {},
   "outputs": [
    {
     "name": "stdout",
     "output_type": "stream",
     "text": [
      "valor x a 5 dígitos: 1.285700e+00\n",
      "valor y a 5 dígitos: 1.666600e+00\n",
      "valor u a 5 dígitos: 1.714200e+00\n",
      "valor v a 5 dígitos: 9.876500e+04\n",
      "valor w a 5 dígitos: 1.600000e+02\n"
     ]
    }
   ],
   "source": [
    "//Comprueba función\n",
    "//%cflags:-lm\n",
    "#include<stdio.h>\n",
    "#include<stdlib.h>\n",
    "#include<math.h>\n",
    "#include<string.h>\n",
    "\n",
    "double fl_c_k(double a, int k){\n",
    "    double resp;\n",
    "    if (a < 1){\n",
    "        resp = (double)((int)(pow(10,k)*a)*pow(10,-k));\n",
    "    }\n",
    "    else{\n",
    "        int num = (int)log10(a); //Número de cero que tiene el número (lugares) \n",
    "        int k2 = num + 1 - k;\n",
    "        resp = (int)(a/(pow(10,k2)))*pow(10,k2);\n",
    "    }\n",
    "    return resp;\n",
    "}\n",
    "\n",
    "int main(){\n",
    "    double x = 9/7.0;\n",
    "    double y = 5/3.0;\n",
    "    double u=1.714251;\n",
    "    double v = 98765.9;\n",
    "    double w=160.0000111111;\n",
    "    \n",
    "    \n",
    "    int k;\n",
    "\n",
    "    k=5; //precisión 5\n",
    "    printf(\"valor x a 5 dígitos: %0.6e\\n\", fl_c_k(x,k));\n",
    "    printf(\"valor y a 5 dígitos: %0.6e\\n\", fl_c_k(y,k));\n",
    "    printf(\"valor u a 5 dígitos: %0.6e\\n\", fl_c_k(u,k));\n",
    "    printf(\"valor v a 5 dígitos: %0.6e\\n\", fl_c_k(v,k));\n",
    "    printf(\"valor w a 5 dígitos: %0.6e\\n\", fl_c_k(w,k));\n",
    "    return 0;\n",
    "    \n",
    "    \n",
    "}"
   ]
  },
  {
   "cell_type": "markdown",
   "metadata": {},
   "source": [
    "**Ejercicio: finalizar la tabla con un programa en C.**"
   ]
  },
  {
   "cell_type": "markdown",
   "metadata": {},
   "source": [
    "### Listando algunos problemas típicos que se presentan en la aritmética de máquina se tienen:"
   ]
  },
  {
   "cell_type": "markdown",
   "metadata": {},
   "source": [
    "1. Problema de cancelación: pérdida de cifras significativas a partir de la resta de números similares.\n",
    "\n",
    "2. Suma entre un número de magnitud grande y un número de magnitud pequeña.\n",
    "\n",
    "3. Sumas con términos que involucren signos alternados. \n",
    "\n",
    "4. Multiplicación por un número de magnitud grande.\n",
    "\n",
    "5. División por un número de magnitud pequeña.\n",
    "\n"
   ]
  },
  {
   "cell_type": "markdown",
   "metadata": {},
   "source": [
    "### Posibles soluciones:"
   ]
  },
  {
   "cell_type": "markdown",
   "metadata": {},
   "source": [
    "1. Usar mayor precisión.\n",
    "\n",
    "2. Reordenar operaciones.\n",
    "\n",
    "3. Reescribir expresiones matemáticas para obtener expresiones equivalentes.\n",
    "\n",
    "4. Escalar las variables. También funciona estandarizarlas.\n"
   ]
  },
  {
   "cell_type": "markdown",
   "metadata": {},
   "source": [
    "**Ejercicios**\n",
    "\n",
    "\n",
    "**1. Resuelve los ejercicios y preguntas de la nota.**\n",
    "\n",
    "**2. Utiliza la notación posicional para representar al número $86409$ y $(1001.1)_2$ en base $10$.**\n",
    "- Recordar que notación posicional es usar la posición de un número para asignar un valor\n",
    "- Número 86409 es 8.6409e+04 en base 10. Por convención cuando no hay base suponemos que es base 10. Por lo tanto el número $86409$ en base $10$ es $86409$.\n",
    "    - Si la pregunta fuera $(86409)_16$ entonces en base $10$ sería (8 x 16^4 + 6 x 16^3+ 4 x 16^2 + 0 x 16^1 + 9 x 16^0 = 8*65,536 + 6* 4,096+ 4*256 + 9*1 = 524,288 + 24,576 + 1,024 + 9 = 549,897)\n",
    "\n",
    "- Número $(1001.1)_2$ en base 10 es (2^3 + 2^0 + 2^-1 = 8 + 1 + 0.5 = 9.5)\n",
    "\n",
    "**3. ¿Cuáles de los siguientes números son números de máquina en un SPFN con $\\beta=2$?**\n",
    "\n",
    "Recordar que $\\beta=2$? Significa base 2, SPFN significa Sistema de Punto Flotante Normalizado y número de máquina (aritmetica de máquina) es diferente a la aritmética exacta. Es decir, pi es un número exacto mientras que 3.14159 es un número de máquina. \n",
    "\n",
    "- a. $(2.125)_{10}$.\n",
    "    - En base dos el número es (2^1 + 2^-3 = 10.001) \n",
    "    - Normalizado es 1.0001 e+1\n",
    "    - Por lo tanto la notación sería:\n",
    "        - s = 0 (signo positivo) ((1))\n",
    "        - Exponente con bias  ((1 - 127= -126 =11111110))\n",
    "        - Mantisa 0001 00..00\n",
    "        - Single-point precision: 1 11111110 0001 00..00\n",
    "        - Por lo tanto sí es un número de máquina\n",
    "\n",
    "- b. $(3.1)_{10}$.\n",
    "    - En base dos el número no se puede escribir. Lo más cercano sería (2^2 +2^1 + 2^-1 + 2^-4  + 2^-5 +   2^-8  + 2^-9 + …   = 11.000110011…0011)\n",
    "    - Sin embargo, no llega a ser 3.1 en decimal.  \n",
    "    - Por lo tanto, no es un número de máquina. Es un número exacto, el número de máquina va a ser 3.9999..99 con alta precisión.\n",
    "\n",
    "Por lo tanto, el número a es número de máquina y el b es número exacto, no de máquina. \n",
    "\n",
    "*tip: escribe los números anteriores como sumas de potencias de $2$.*\n",
    "\n",
    "\n",
    "**4. Considérese un SPFN con $\\beta=2, k=3$. En este sistema se tienen $7$ bits para almacenar números. El primer bit se utiliza para el signo del número, el segundo bit se utiliza para el signo del exponente, los dos siguientes bits para construir al exponente y *los últimos 3* (el último) bit para construir a la mantisa. Entonces el número positivo normalizado más pequeño que es posible representar en este SPFN es:**\n",
    "\n",
    "\n",
    "* Recordar que SPFN significa que está normalizado, es decir, siempre hay un uno en la parte de los enteros.\n",
    "** Para que el ejemplo tenga sentido, vamos a asumir que en vez de estar normalizado con 1, está normalizado con 0. Es decir que todos los números tienen un cero en su parte entera. De esta forma se mantiene la unicidad y el número $$(01 11 100)_2=.0625.$$\n",
    "\n",
    "(signo número)(signo exponente)(2 exponente)(3 mantisa)\n",
    "\n",
    "*Suponiendo que el sistema de 7 bits utiliza los últimos 3 bits para la mantisa y teniendo un 0 en la parte de los enteros*\n",
    "\n",
    "$$(01 11 100)_2=(.5\\times2^{-3})_{10}=.0625.$$\n",
    "\n",
    "a. Escribe los siguientes números más grandes a este número que forman al SPFN hasta el valor más grande positivo que es posible representar en este SPFN.\n",
    "\n",
    "*Con exponente -3*\n",
    "\n",
    "$$(0 1 11 101)_2=(.625\\times2^{-3})_{10}=0.078125.$$\n",
    "\n",
    "$$(0 1 11 110)_2=(.75\\times2^{-3})_{10}=0.09375.$$\n",
    "\n",
    "$$(0 1 11 111)_2=(.875\\times2^{-3})_{10}=0.109375.$$\n",
    "\n",
    "*Con exponente -2*\n",
    "$$(0 1 10 100)_2=(.5\\times2^{-2})_{10}=.123.$$\n",
    "\n",
    "$$(0 1 10 101)_2=(.625\\times2^{-2})_{10}=0.15625.$$\n",
    "\n",
    "$$(0 1 10 110)_2=(.75\\times2^{-2})_{10}=0.1875.$$\n",
    "\n",
    "$$(0 1 10 111)_2=(.875\\times2^{-2})_{10}=0.21875.$$\n",
    "\n",
    "*Con exponente -1*\n",
    "$$(0 1 01 100)_2=(.5\\times2^{-1})_{10}=.25.$$\n",
    "\n",
    "$$(0 1 01 101)_2=(.625\\times2^{-1})_{10}=0.3125.$$\n",
    "\n",
    "$$(0 1 01 110)_2=(.75\\times2^{-1})_{10}=0.375.$$\n",
    "\n",
    "$$(0 1 01 111)_2=(.875\\times2^{-1})_{10}=0.4375.$$\n",
    "\n",
    "*Con exponente 0*\n",
    "$$(0 1 00 100)_2=(.5\\times2^{0})_{10}=.5.$$\n",
    "\n",
    "$$(0 1 00 101)_2=(.625\\times2^{0})_{10}=0.625.$$\n",
    "\n",
    "$$(0 1 00 110)_2=(.75\\times2^{0})_{10}=0.75.$$\n",
    "\n",
    "$$(0 1 00 111)_2=(.875\\times2^{0})_{10}=0.875.$$\n",
    "\n",
    "*Con exponente 1*\n",
    "$$(0 0 01 100)_2=(.5\\times2^{1})_{10}=1.$$\n",
    "\n",
    "$$(0 0 01 101)_2=(.625\\times2^{1})_{10}=1.25.$$\n",
    "\n",
    "$$(0 0 01 110)_2=(.75\\times2^{1})_{10}=1.5.$$\n",
    "\n",
    "$$(0 0 01 111)_2=(.875\\times2^{1})_{10}=1.75.$$\n",
    "\n",
    "*Con exponente 2*\n",
    "$$(0 0 10 100)_2=(.5\\times2^{2})_{10}=2.$$\n",
    "\n",
    "$$(0 0 10 101)_2=(.625\\times2^{2})_{10}=2.5.$$\n",
    "\n",
    "$$(0 0 10 110)_2=(.75\\times2^{2})_{10}=3.$$\n",
    "\n",
    "$$(0 0 10 111)_2=(.875\\times2^{2})_{10}=3.5.$$\n",
    "\n",
    "*Con exponente 3*\n",
    "$$(0 0 11 100)_2=(.5\\times2^{3})_{10}=4.$$\n",
    "\n",
    "$$(0 0 11 101)_2=(.625\\times2^{3})_{10}=5.$$\n",
    "\n",
    "$$(0 0 11 110)_2=(.75\\times2^{3})_{10}6.$$\n",
    "\n",
    "$$(0 0 11 111)_2=(.875\\times2^{3})_{10}=7.$$\n",
    "\n",
    "\n",
    "b. Calcula las distancias entre los números con mismo valor de exponente.\n",
    "\n",
    "- Distancias exponente -3: 0.15625\n",
    "- Distancias exponente -2: 0.03125\n",
    "- Distancias exponente -1: 0.0625\n",
    "- Distancias exponente 0: 0.125\n",
    "- Distancias exponente 1: 0.25\n",
    "- Distancias exponente 2: 0.5 \n",
    "- Distancias exponente 3: 1\n",
    "\n",
    "c. **Verifica que el error relativo para $x=0.156249$ utilizando la regla de corte es menor o igual a $\\epsilon_{maq}=.25$ y el error relativo para $x=0.14$ utilizando la regla de redondeo es menor o igual a $\\epsilon_{maq}=0.125$.**\n",
    "\n",
    "* Recordar: regla de corte es quedarnos con los primeros k digitos (sin redondear). \n",
    "\n",
    "*Suponiendo k = 3*\n",
    "En este caso los números más cercanos son .123 y 0.15625. Según la formula el error de máquina para $\\beta=2, k=3$ es $\\beta^{1-k}$. Es decir $2^{1-3}$ = $2^{-2}$ = 0.25.\n",
    "\n",
    "Tenemos dos casos:\n",
    "* a ) 0.123 - 0.156 = -0.033\n",
    "    - Error relativo = -0.033/ 0.156= -0.211\n",
    "* b ) 0.15625 - 0.156 = 0.00025\n",
    "    - Error relativo =  0.00025 /0.156 = 0.0016\n",
    "\n",
    "Con esto verificamos que hasta en el peor de los casos el error relativo es 0.21 que es menor a epsilon de la máquina 0.25.\n",
    "\n",
    "Del mismo modo, para x = 0.14, utilizando la regla del redondeo para k = 3, entonces x = 0.140\n",
    "\n",
    "* a ) 0.123 - 0.14 = -0.017\n",
    "    - Error relativo = -0.017/ 0.14= -0.12\n",
    "* b ) 0.15625 - 0.14 = 0.01625\n",
    "    - Error relativo =  0.01625 /0.156 = 0.1041\n",
    "    \n",
    "En el peor de los casos el error relativo es 0.121 que es menor al epsion de la maquina de 0.125. \n",
    "\n",
    "\n",
    "**Preguntas de comprehensión**.\n",
    "\n",
    "1)¿Cuáles componentes definen  a un sistema de punto flotante?\n",
    "\n",
    "2)Si un número tiene una representación exacta en la máquina, ¿qué nombre recibe?\n",
    "\n",
    "3)¿Qué es un sistema de punto flotante normalizado?\n",
    "\n",
    "4)Menciona algunas propiedades de un sistema de punto flotante normalizado.\n",
    "\n",
    "5)¿Cuántos bits se utilizan en el hardware de una máquina para almacenar un número en un sistema de doble precisión?\n",
    "\n",
    "6)¿Qué nombre reciben los errores que se generan por utilizar un sistema de punto flotante?\n",
    "\n",
    "7)¿Cuáles reglas utiliza la máquina para dar aproximaciones a un número?\n",
    "\n",
    "8)Explica con palabras la diferencia entre el epsilon de la máquina y el nivel de underflow:\n",
    "\n",
    "a.¿Cuál de ellos depende únicamente del número de dígitos de la mantisa?\n",
    "\n",
    "b.¿Cuál de ellos depende únicamente del número de dígitos del exponente?\n",
    "\n",
    "c.¿Cuál de ellos no depende de la reglas usadas que se preguntaron en la pregunta 7?\n",
    "\n",
    "9)Si calculamos un error relativo para una aproximación y resulta ser del orden de $10^{-8}$ ¿alrededor de cuántos dígitos correctos tengo en mi aproximación?\n",
    "\n",
    "10)Menciona algunos problemas típicos de la aritmética de máquina y algunas formas de resolverlos.\n"
   ]
  },
  {
   "cell_type": "markdown",
   "metadata": {},
   "source": [
    "**Referencias:**\n",
    "\n",
    "1. R. L. Burden, J. D. Faires, Numerical Analysis, Brooks/Cole Cengage Learning, 2005.\n",
    "\n",
    "2. M. T. Heath, Scientific Computing. An Introductory Survey, McGraw-Hill, 2002.\n",
    "\n",
    "3. [Clases de C](https://github.com/ITAM-DS/analisis-numerico-computo-cientifico/tree/master/C/clases)."
   ]
  },
  {
   "cell_type": "code",
   "execution_count": null,
   "metadata": {},
   "outputs": [],
   "source": []
  }
 ],
 "metadata": {
  "kernelspec": {
   "display_name": "C",
   "language": "c",
   "name": "c"
  },
  "language_info": {
   "file_extension": ".c",
   "mimetype": "text/plain",
   "name": "c"
  }
 },
 "nbformat": 4,
 "nbformat_minor": 4
}
